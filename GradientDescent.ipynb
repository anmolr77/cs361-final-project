{
 "cells": [
  {
   "cell_type": "markdown",
   "metadata": {
    "id": "OUXUbvIcbmSy"
   },
   "source": [
    "# Data Generation"
   ]
  },
  {
   "cell_type": "code",
   "execution_count": 22,
   "metadata": {
    "id": "WPlLJzl9bmS6"
   },
   "outputs": [
    {
     "name": "stdout",
     "output_type": "stream",
     "text": [
      "True theta: [1. 1. 1. 1. 1. 1. 1. 1. 1. 1.]\n"
     ]
    }
   ],
   "source": [
    "%matplotlib inline\n",
    "import numpy as np\n",
    "import numpy.linalg as la\n",
    "import matplotlib.pyplot as plt\n",
    "\n",
    "dim_theta = 10\n",
    "data_num = 1000\n",
    "scale = .1\n",
    "\n",
    "theta_true = np.ones((dim_theta,1))\n",
    "print('True theta:', theta_true.reshape(-1))\n",
    "\n",
    "A = np.random.uniform(low=-1.0, high=1.0, size=(data_num,dim_theta))\n",
    "y_data = A @ theta_true + np.random.normal(loc=0.0, scale=scale, size=(data_num, 1))\n",
    "\n",
    "A_test = np.random.uniform(low=-1.0, high=1.0, size=(50, dim_theta))\n",
    "# print(A_test)\n",
    "y_test = A_test @ theta_true + np.random.normal(loc=0.0, scale=scale, size=(50, 1))"
   ]
  },
  {
   "cell_type": "markdown",
   "metadata": {
    "id": "ZU_XvbFtbmTT"
   },
   "source": [
    "# Solving for the exact mean squared loss (solving Ax = b)"
   ]
  },
  {
   "cell_type": "code",
   "execution_count": 23,
   "metadata": {
    "id": "BmhrX7mHbmTW"
   },
   "outputs": [
    {
     "name": "stdout",
     "output_type": "stream",
     "text": [
      "Empirical theta [1.00066421 0.99506782 0.99979805 0.98703747 0.99708337 1.00089019\n",
      " 1.01694545 0.99654429 1.00628799 1.00798099]\n"
     ]
    }
   ],
   "source": [
    "'''\n",
    "Hints:\n",
    "1. See the least squares solution to Ax = b (when it is covered in lecture).\n",
    "\n",
    "2. Use Numpy functions like Numpy's linear algebra functions to solve for x in Ax = b.\n",
    "In fact, the linear algebra module is already imported with ```import numpy.linalg as la```.\n",
    "\n",
    "3. Use the defined variable A in Ax = b. Use y_data as b. Use theta_pred as x.\n",
    "'''\n",
    "inverse = la.inv((A.T).dot(A))\n",
    "theta_pred = inverse.dot((A.T).dot(y_data))\n",
    "\n",
    "# theta_pred = NotImplemented # TODO: Implement the analytical solution\n",
    "\n",
    "print('Empirical theta', theta_pred.reshape(-1))"
   ]
  },
  {
   "cell_type": "markdown",
   "metadata": {
    "id": "xeV_SKF_bmTj"
   },
   "source": [
    "# SGD Variants Noisy Function"
   ]
  },
  {
   "cell_type": "code",
   "execution_count": 24,
   "metadata": {
    "id": "SvwmLrlAbmTn"
   },
   "outputs": [],
   "source": [
    "batch_size = 1\n",
    "max_iter = 1000\n",
    "lr = 0.001\n",
    "theta_init = np.random.random((10,1)) * 0.1"
   ]
  },
  {
   "cell_type": "code",
   "execution_count": 25,
   "metadata": {
    "id": "1hVSuTZxbmT2"
   },
   "outputs": [],
   "source": [
    "def noisy_val_grad(theta_hat, data_, label_, deg_=2.):\n",
    "    gradient = np.zeros_like(theta_hat)\n",
    "    loss = 0\n",
    "    \n",
    "    for i in range(data_.shape[0]):\n",
    "        x_ = data_[i, :].reshape(-1,1)\n",
    "        y_ = label_[i, 0]\n",
    "        err = np.sum(x_ * theta_hat) - y_\n",
    "        \n",
    "#         print('Not implemented.')\n",
    "\n",
    "        '''\n",
    "        Hints:\n",
    "        1. Find the gradient and loss for each data point x_.\n",
    "        2. For grad, you need err, deg_, and x_.\n",
    "        3. For l, you need err and deg_ only.\n",
    "        4. Checkout the writeup for more hints.\n",
    "        '''\n",
    "        grad = deg_*np.abs(err)**(deg_ -1.)*np.sign(err)*x_ # NotImplemented # TODO: Implement the analytical gradient\n",
    "        l = np.abs(err)**deg_ # NotImplemented # TODO: Implement the loss function\n",
    "        \n",
    "        loss += l / data_.shape[0]\n",
    "        gradient += grad / data_.shape[0]\n",
    "        \n",
    "    return loss, gradient"
   ]
  },
  {
   "cell_type": "markdown",
   "metadata": {
    "id": "B5abUl0ibmUF"
   },
   "source": [
    "# Running SGD Variants"
   ]
  },
  {
   "cell_type": "code",
   "execution_count": 26,
   "metadata": {
    "id": "xybXkEd7bmUJ"
   },
   "outputs": [
    {
     "data": {
      "image/png": "[encoded data removed]",
      "text/plain": [
       "<Figure size 720x720 with 1 Axes>"
      ]
     },
     "metadata": {
      "needs_background": "light"
     },
     "output_type": "display_data"
    }
   ],
   "source": [
    "#@title Parameters\n",
    "deg_ = 2. #@param {type: \"number\"}\n",
    "num_rep = 10 #@param {type: \"integer\"}\n",
    "max_iter = 1000 #@param {type: \"integer\"}\n",
    "fig, ax = plt.subplots(figsize=(10,10))\n",
    "best_vals = {}\n",
    "test_exp_interval = 50 #@param {type: \"integer\"}\n",
    "grad_artificial_normal_noise_scale = 0. #@param {type: \"number\"}"
   ]
  },
  {
   "cell_type": "code",
   "execution_count": 28,
   "metadata": {
    "id": "UM80QBNFbmUV"
   },
   "outputs": [
    {
     "name": "stdout",
     "output_type": "stream",
     "text": [
      "adam 0\n"
     ]
    },
    {
     "name": "stderr",
     "output_type": "stream",
     "text": [
      "C:\\ProgramData\\Anaconda3\\lib\\site-packages\\ipykernel_launcher.py:41: RuntimeWarning: divide by zero encountered in true_divide\n",
      "C:\\ProgramData\\Anaconda3\\lib\\site-packages\\ipykernel_launcher.py:42: RuntimeWarning: divide by zero encountered in true_divide\n",
      "C:\\ProgramData\\Anaconda3\\lib\\site-packages\\ipykernel_launcher.py:43: RuntimeWarning: invalid value encountered in true_divide\n",
      "C:\\ProgramData\\Anaconda3\\lib\\site-packages\\ipykernel_launcher.py:19: RuntimeWarning: invalid value encountered in sign\n"
     ]
    },
    {
     "name": "stdout",
     "output_type": "stream",
     "text": [
      "[[nan]\n",
      " [nan]\n",
      " [nan]\n",
      " [nan]\n",
      " [nan]\n",
      " [nan]\n",
      " [nan]\n",
      " [nan]\n",
      " [nan]\n",
      " [nan]]\n",
      "adam done\n",
      "sgd 0\n",
      "[[0.52477099]\n",
      " [0.60025881]\n",
      " [0.52084017]\n",
      " [0.50686777]\n",
      " [0.56772556]\n",
      " [0.55328132]\n",
      " [0.47320909]\n",
      " [0.4526505 ]\n",
      " [0.5196334 ]\n",
      " [0.48670478]]\n",
      "sgd done\n"
     ]
    }
   ],
   "source": [
    "for method_idx, method in enumerate(['adam', 'sgd']): #, 'adagrad']):\n",
    "    test_loss_mat = []\n",
    "    train_loss_mat = []\n",
    "    \n",
    "    for replicate in range(num_rep):\n",
    "        if replicate % 20 == 0:\n",
    "            print(method, replicate)\n",
    "            \n",
    "        if method == 'adam':\n",
    "#             print('Adam Not implemented.')\n",
    "            beta_1 = 0.9\n",
    "            beta_2 = 0.999\n",
    "            m = 0. #NotImplemented # TODO: Initialize parameters\n",
    "            v = 0. #NotImplemented\n",
    "            epsilon = 1e-8 #NotImplemented\n",
    "\n",
    "#         if method == 'adagrad':\n",
    "#             print('Adagrad Not implemented.')\n",
    "#             epsilon = NotImplemented # TODO: Initialize parameters\n",
    "#             squared_sum = NotImplemented\n",
    "            \n",
    "        theta_hat = theta_init.copy()\n",
    "        test_loss_list = []\n",
    "        train_loss_list = []\n",
    "\n",
    "        for t in range(max_iter):\n",
    "            idx = np.random.choice(data_num, batch_size) # Split data\n",
    "            train_loss, gradient = noisy_val_grad(theta_hat, A[idx,:], y_data[idx,:], deg_=deg_)\n",
    "            artificial_grad_noise = np.random.randn(10, 1) * grad_artificial_normal_noise_scale + np.sign(np.random.random((10, 1)) - 0.5) * 0.\n",
    "            gradient = gradient + artificial_grad_noise\n",
    "            train_loss_list.append(train_loss)\n",
    "            \n",
    "            if t % test_exp_interval == 0:\n",
    "                test_loss, _ = noisy_val_grad(theta_hat, A_test[:,:], y_test[:,:], deg_=deg_)\n",
    "                test_loss_list.append(test_loss)                \n",
    "            \n",
    "            if method == 'adam':\n",
    "#                 print('Adam Not implemented.') # TODO: Implement Adam\n",
    "                m =  beta_1*m + (1-beta_1)*gradient #NotImplemented\n",
    "                v =  beta_2*v + (1-beta_2)*np.square(gradient) #NotImplemented\n",
    "                m_hat = m/(1-beta_1**t)  #NotImplemented\n",
    "                v_hat = v/(1-beta_2**t)  #NotImplemented\n",
    "                theta_hat = theta_hat - lr*np.divide(m_hat,(np.sqrt(v_hat)+epsilon))  #NotImplemented\n",
    "            \n",
    "#             elif method == 'adagrad':\n",
    "#                 print('Adagrad Not implemented.')\n",
    "#                 squared_sum = squared_sum + NotImplemented # TODO: Implement Adagrad\n",
    "#                 theta_hat = theta_hat - lr * NotImplemented\n",
    "            \n",
    "            elif method == 'sgd':\n",
    "                theta_hat = theta_hat - lr * gradient\n",
    "        \n",
    "        test_loss_mat.append(test_loss_list)\n",
    "        train_loss_mat.append(train_loss_list)\n",
    "    \n",
    "    print(theta_hat)\n",
    "    print(method, 'done')\n",
    "    x_axis = np.arange(max_iter)[::test_exp_interval]\n",
    "    \n",
    "#     print('test_loss_np is a 2d array with num_rep rows and each column denotes a specific update stage in training')\n",
    "#     print('The elements of test_loss_np are the test loss values computed in each replicate and training stage.')\n",
    "#     test_loss_np = np.array(test_loss_mat)\n",
    "    \n",
    "#     print('Not implemented.')\n",
    "#     '''\n",
    "#     Hints:\n",
    "#     1. Use test_loss_np in np.mean() with axis = 0\n",
    "#     '''\n",
    "#     test_loss_mean = NotImplemented # TODO: Calculate the mean test loss\n",
    "\n",
    "#     '''\n",
    "#     Hints:\n",
    "#     1. Use test_loss_np in np.std() with axis = 0 \n",
    "#     2. Divide by np.sqrt() using num_rep as a parameter\n",
    "#     '''\n",
    "#     test_loss_se = NotImplemented # TODO: Calculate the standard error for test loss\n",
    "\n",
    "#     plt.errorbar(x_axis, test_loss_mean, yerr=2.5*test_loss_se, label=method)\n",
    "#     best_vals[method] = min(test_loss_mean)"
   ]
  },
  {
   "cell_type": "code",
   "execution_count": 13,
   "metadata": {
    "id": "EGmQD7nDbmUg"
   },
   "outputs": [
    {
     "name": "stderr",
     "output_type": "stream",
     "text": [
      "No handles with labels found to put in legend.\n"
     ]
    },
    {
     "data": {
      "text/plain": [
       "Text(0.5, 0, 'Updates')"
      ]
     },
     "execution_count": 13,
     "metadata": {},
     "output_type": "execute_result"
    },
    {
     "data": {
      "image/png": "[encoded data removed]",
      "text/plain": [
       "<Figure size 432x288 with 1 Axes>"
      ]
     },
     "metadata": {
      "needs_background": "light"
     },
     "output_type": "display_data"
    }
   ],
   "source": [
    "best_vals = { k: int(v * 1000) / 1000. for k,v in best_vals.items() } # A weird way to round numbers\n",
    "plt.title(f'Test Loss \\n(objective degree: {deg_},  best values: {best_vals})')\n",
    "plt.ylabel('Test Loss')\n",
    "plt.legend()\n",
    "plt.xlabel('Updates')"
   ]
  },
  {
   "cell_type": "code",
   "execution_count": null,
   "metadata": {},
   "outputs": [],
   "source": []
  }
 ],
 "metadata": {
  "colab": {
   "collapsed_sections": [],
   "name": "GradientDescent.ipynb",
   "provenance": []
  },
  "kernelspec": {
   "display_name": "Python 3",
   "language": "python",
   "name": "python3"
  },
  "language_info": {
   "codemirror_mode": {
    "name": "ipython",
    "version": 3
   },
   "file_extension": ".py",
   "mimetype": "text/x-python",
   "name": "python",
   "nbconvert_exporter": "python",
   "pygments_lexer": "ipython3",
   "version": "3.7.6"
  }
 },
 "nbformat": 4,
 "nbformat_minor": 1
}
